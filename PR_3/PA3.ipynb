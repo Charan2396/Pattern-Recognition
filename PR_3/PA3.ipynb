{
 "cells": [
  {
   "cell_type": "markdown",
   "metadata": {},
   "source": [
    "# ASSIGNMENT 3\n",
    "\n",
    "## Task 1\n",
    "\n",
    "### Draw the moral graph, triangulated graph and the junction tree. Explain why the \"running intersection property\" is satisfied in your junction tree."
   ]
  },
  {
   "cell_type": "code",
   "execution_count": null,
   "metadata": {},
   "outputs": [],
   "source": [
    "library(gRain)\n",
    "yn <- c(\"yes\",\"no\")"
   ]
  },
  {
   "cell_type": "markdown",
   "metadata": {},
   "source": [
    "#### Hardcoding CPD values for the Bayesian network"
   ]
  },
  {
   "cell_type": "code",
   "execution_count": null,
   "metadata": {},
   "outputs": [],
   "source": [
    "a <- cptable(~asia, values=c(1,99), levels=yn)\n",
    "t.a <- cptable(~tub+asia, values=c(5,95,1,99), levels=yn)\n",
    "s <- cptable(~smoke, values=c(5,5), levels=yn)\n",
    "l.s <- cptable(~lung+smoke, values=c(1,9,1,99), levels=yn)\n",
    "b.s <- cptable(~bronc+smoke, values=c(6,4,3,7), levels=yn)\n",
    "e.lt <- cptable(~either+lung+tub,values=c(1,0,1,0,1,0,0,1),levels=yn)\n",
    "x.e <- cptable(~xray+either, values=c(98,2,5,95), levels=yn)\n",
    "d.be <- cptable(~dysp+bronc+either, values=c(9,1,7,3,8,2,1,9),levels=yn)"
   ]
  },
  {
   "cell_type": "code",
   "execution_count": null,
   "metadata": {},
   "outputs": [],
   "source": [
    "# Displaying CPD table for tub given asia \n",
    "cptable(~tub|asia, values=c(5,95,1,99), levels=yn)\n",
    "cptable(c(\"tub\",\"asia\"), values=c(5,95,1,99), levels=yn)"
   ]
  },
  {
   "cell_type": "code",
   "execution_count": null,
   "metadata": {},
   "outputs": [],
   "source": [
    "# Plotting the bayesian network\n",
    "\n",
    "e.lt <- ortable(~either+lung+tub, levels=yn)\n",
    "\n",
    "plist <- compileCPT(list(a, t.a, s, l.s, b.s, e.lt, x.e, d.be))\n",
    "grn1 <- grain(plist)\n",
    "summary(grn1)\n",
    "plot(grn1)"
   ]
  },
  {
   "cell_type": "code",
   "execution_count": null,
   "metadata": {},
   "outputs": [],
   "source": [
    "# Compiling the given bayesian newtwork by adding the CPD's\n",
    "grn1c <- compile(grn1)\n",
    "summary(grn1c)\n",
    "plot(grn1)"
   ]
  },
  {
   "cell_type": "code",
   "execution_count": null,
   "metadata": {},
   "outputs": [],
   "source": [
    "# Making the newtwork undirected graph in order to perform moralization.\n",
    "g <- grn1c$dag\n",
    "summary(g)\n",
    "plot(grn1c)"
   ]
  },
  {
   "cell_type": "code",
   "execution_count": null,
   "metadata": {},
   "outputs": [],
   "source": [
    "# Moralize the graph\n",
    "mg <- moralize(g)\n",
    "plot(mg)"
   ]
  },
  {
   "cell_type": "code",
   "execution_count": null,
   "metadata": {},
   "outputs": [],
   "source": [
    "#triangulate the graph\n",
    "tmg <- triangulate(mg)\n",
    "\n",
    "#plot triangulated moralized graph\n",
    "plot(tmg)\n",
    "rip(tmg)"
   ]
  },
  {
   "cell_type": "code",
   "execution_count": null,
   "metadata": {},
   "outputs": [],
   "source": [
    "# Finding the junction tree\n",
    "plot(grn1c,type=\"jt\")\n",
    "\n",
    "grn1c <- propagate(grn1c)\n",
    "summary(grn1c)"
   ]
  },
  {
   "cell_type": "markdown",
   "metadata": {},
   "source": [
    "#### Performing querying on bronc=yes,lung=yes,tub=yes given evidence that asia=yes and xray=yes"
   ]
  },
  {
   "cell_type": "code",
   "execution_count": null,
   "metadata": {},
   "outputs": [],
   "source": [
    "grn1c.ev <-setFinding(grn1c,nodes=c(\"asia\",\"xray\"), states=c(\"yes\",\"yes\"))\n",
    "\n",
    "querygrain(grn1c.ev,nodes=c(\"lung\",\"bronc\",\"tub\"), type=\"joint\")"
   ]
  },
  {
   "cell_type": "markdown",
   "metadata": {},
   "source": [
    "### Why running intersection property is satisfied in the above junction tree?\n",
    "\n",
    "__A :__ The running intersection property is satisfied by the junction tree because as per the property if a variable is found in more than one cluster, then it needs to be found on all nodes of that lie in the path between the variables, this is due to the reason that there exists a single path between the two variables as it is a tree.\n",
    "\n",
    "As you can see in the graph the variable 'either' is there in (2) and (6), as a result it tends to appear in all of the intervening nodes, similarly the variable 'tub' appears in (1) and (2), so it is passed along as a message. \n",
    "Hence all intermediate nodes that appear are passed along as a message. So we can say that if a variable 'x' is in cluster 'a' and cluster 'b', then it must be found in all the nodes that lie in between these two clusters.\n"
   ]
  },
  {
   "cell_type": "markdown",
   "metadata": {},
   "source": [
    "## TASK 2:\n",
    "\n",
    "__Describe how the different terms on the right hand side of \"p(V ) = p(a)p(t | a)p(s)p(l | s)p(b | s)p(e | t, l)p(d | e, b)p(x | e)\" are distributed among the different juction tree clusters. Write out the messages using these terms and verify that the message passing algorithm indeed gives the cluster marginals.__\n",
    "\n",
    "__A.__"
   ]
  },
  {
   "attachments": {},
   "cell_type": "markdown",
   "metadata": {},
   "source": [
    "![table.png](table.png\"Title\")\n",
    "\n",
    "As you can see in the above table, the terms are distributed in various nodes in the junction tree."
   ]
  },
  {
   "cell_type": "markdown",
   "metadata": {},
   "source": [
    "#### Messages using the terms\n",
    "\n",
    "From the above table, the messages are sent from order (1) to order (6), where the messages are sent birectional. We can say this as in the junction tree the messages are sent to the intermediate nodes as well, that is the nodes between the variables.\n",
    "\n",
    "To be able to query, the object must be propagated, which means the clique potentials must be calibrated to each other. Propagation is done using the propagate() method ."
   ]
  },
  {
   "cell_type": "markdown",
   "metadata": {},
   "source": [
    "The propagation algorithm works by turning the clique potential representation into a representation in which each potential is replaced by the marginal distribution of its respective variables, this is known as clique marginal representation. We use the RIP ordering in order to perform this. In the above code the rip fucntion provided by R is used in order to find the marginal probability.\n",
    "\n",
    "Using the __Message Passing algorithm__ the joint probability for p('asia', 'xray') turned out to be __0.012__.\n"
   ]
  },
  {
   "cell_type": "code",
   "execution_count": null,
   "metadata": {},
   "outputs": [],
   "source": []
  }
 ],
 "metadata": {
  "kernelspec": {
   "display_name": "R",
   "language": "R",
   "name": "ir"
  },
  "language_info": {
   "codemirror_mode": "r",
   "file_extension": ".r",
   "mimetype": "text/x-r-source",
   "name": "R",
   "pygments_lexer": "r",
   "version": "3.5.1"
  },
  "latex_envs": {
   "LaTeX_envs_menu_present": true,
   "autoclose": false,
   "autocomplete": true,
   "bibliofile": "biblio.bib",
   "cite_by": "apalike",
   "current_citInitial": 1,
   "eqLabelWithNumbers": true,
   "eqNumInitial": 1,
   "hotkeys": {
    "equation": "Ctrl-E",
    "itemize": "Ctrl-I"
   },
   "labels_anchors": false,
   "latex_user_defs": false,
   "report_style_numbering": false,
   "user_envs_cfg": false
  }
 },
 "nbformat": 4,
 "nbformat_minor": 2
}
